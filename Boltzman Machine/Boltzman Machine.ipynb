{
 "cells": [
  {
   "cell_type": "code",
   "execution_count": 1,
   "metadata": {
    "collapsed": true
   },
   "outputs": [],
   "source": [
    "import numpy as np\n",
    "import pandas as pd\n",
    "import torch\n",
    "import torch.nn as nn\n",
    "import torch.nn.parallel\n",
    "import torch.optim as optim\n",
    "import torch.utils.data\n",
    "from torch.autograd import Variable"
   ]
  },
  {
   "cell_type": "code",
   "execution_count": 2,
   "metadata": {
    "collapsed": true
   },
   "outputs": [],
   "source": [
    "training_set = pd.read_csv('ml-100k/u1.base', delimiter = '\\t')\n",
    "training_set = np.array(training_set, dtype = 'int')\n",
    "test_set = pd.read_csv('ml-100k/u1.test', delimiter = '\\t')\n",
    "test_set = np.array(test_set, dtype = 'int')"
   ]
  },
  {
   "cell_type": "code",
   "execution_count": 3,
   "metadata": {
    "collapsed": true
   },
   "outputs": [],
   "source": [
    "n_users=int(max(max(training_set[:,0]),max(test_set[:,0])))\n",
    "n_movies=int(max(max(training_set[:,1]),max(test_set[:,1])))"
   ]
  },
  {
   "cell_type": "code",
   "execution_count": 4,
   "metadata": {
    "collapsed": true
   },
   "outputs": [],
   "source": [
    "def convert(data):\n",
    "    new_data=[]\n",
    "    for id_user in range(1,n_users+1):\n",
    "        id_movies=data[:,1][data[:,0]==id_user]\n",
    "        id_rating=data[:,2][data[:,0]==id_user]\n",
    "        ratings=np.zeros(n_movies)\n",
    "        ratings[id_movies-1] = id_rating\n",
    "        new_data.append(list(ratings))\n",
    "    return new_data"
   ]
  },
  {
   "cell_type": "code",
   "execution_count": 5,
   "metadata": {},
   "outputs": [],
   "source": [
    "training_set = convert(training_set)\n",
    "test_set = convert(test_set)"
   ]
  },
  {
   "cell_type": "code",
   "execution_count": 6,
   "metadata": {
    "collapsed": true
   },
   "outputs": [],
   "source": [
    "training_set=torch.FloatTensor(training_set)\n",
    "test_set=torch.FloatTensor(test_set)"
   ]
  },
  {
   "cell_type": "code",
   "execution_count": 7,
   "metadata": {},
   "outputs": [
    {
     "data": {
      "text/plain": [
       "\n",
       "    0     3     4  ...      0     0     0\n",
       "    4     0     0  ...      0     0     0\n",
       "    0     0     0  ...      0     0     0\n",
       "       ...          ⋱          ...       \n",
       "    5     0     0  ...      0     0     0\n",
       "    0     0     0  ...      0     0     0\n",
       "    0     5     0  ...      0     0     0\n",
       "[torch.FloatTensor of size 943x1682]"
      ]
     },
     "execution_count": 7,
     "metadata": {},
     "output_type": "execute_result"
    }
   ],
   "source": [
    "training_set"
   ]
  },
  {
   "cell_type": "code",
   "execution_count": 8,
   "metadata": {},
   "outputs": [],
   "source": [
    "training_set[training_set==0]=-1\n",
    "training_set[training_set==1]=0\n",
    "training_set[training_set==2]=0\n",
    "training_set[training_set >= 3] = 1\n",
    "test_set[test_set == 0] = -1\n",
    "test_set[test_set == 1] = 0\n",
    "test_set[test_set == 2] = 0\n",
    "test_set[test_set >= 3] = 1"
   ]
  },
  {
   "cell_type": "code",
   "execution_count": 9,
   "metadata": {},
   "outputs": [
    {
     "data": {
      "text/plain": [
       "\n",
       "   -1     1     1  ...     -1    -1    -1\n",
       "    1    -1    -1  ...     -1    -1    -1\n",
       "   -1    -1    -1  ...     -1    -1    -1\n",
       "       ...          ⋱          ...       \n",
       "    1    -1    -1  ...     -1    -1    -1\n",
       "   -1    -1    -1  ...     -1    -1    -1\n",
       "   -1     1    -1  ...     -1    -1    -1\n",
       "[torch.FloatTensor of size 943x1682]"
      ]
     },
     "execution_count": 9,
     "metadata": {},
     "output_type": "execute_result"
    }
   ],
   "source": [
    "training_set"
   ]
  },
  {
   "cell_type": "code",
   "execution_count": 10,
   "metadata": {
    "collapsed": true
   },
   "outputs": [],
   "source": [
    "class RBM():\n",
    "    def __init__(self,nv,nh):\n",
    "        self.W=torch.randn(nh,nv)\n",
    "        self.a=torch.randn(1,nh)\n",
    "        self.b=torch.randn(1,nv)\n",
    "    def sample_h(self,x):\n",
    "        wx=torch.mm(x,self.W.t())\n",
    "        activation=wx+self.a.expand_as(wx)\n",
    "        p_h_given_v=torch.sigmoid(activation)\n",
    "        return p_h_given_v,torch.bernoulli(p_h_given_v)\n",
    "    def sample_v(self,y):\n",
    "        wy=torch.mm(y,self.W)\n",
    "        activation=wy+self.b.expand_as(wy)\n",
    "        p_v_given_h=torch.sigmoid(activation)\n",
    "        return p_v_given_h,torch.bernoulli(p_v_given_h)\n",
    "    def train(self,v0,vk,ph0,phk):\n",
    "        self.W += torch.mm(v0.t(),ph0)-torch.mm(vk.t(),phk)\n",
    "        self.b +=torch.sum((v0-vk),0)\n",
    "        self.a +=torch.sum((ph0-phk),0)\n",
    "        "
   ]
  },
  {
   "cell_type": "code",
   "execution_count": 11,
   "metadata": {
    "collapsed": true
   },
   "outputs": [],
   "source": [
    "nv=len(training_set[0])\n",
    "nh=100\n",
    "batch_size=100\n",
    "rbm=RBM(nv,nh)"
   ]
  },
  {
   "cell_type": "code",
   "execution_count": 12,
   "metadata": {},
   "outputs": [
    {
     "name": "stderr",
     "output_type": "stream",
     "text": [
      "/usr/local/lib/python3.5/dist-packages/torch/tensor.py:297: UserWarning: other is not broadcastable to self, but they have the same number of elements.  Falling back to deprecated pointwise behavior.\n",
      "  return self.add_(other)\n"
     ]
    },
    {
     "name": "stdout",
     "output_type": "stream",
     "text": [
      "epoch: 1 loss: 0.29363373390611586\n",
      "epoch: 2 loss: 0.25265674841529395\n",
      "epoch: 3 loss: 0.25227124937115764\n",
      "epoch: 4 loss: 0.24794800862519312\n",
      "epoch: 5 loss: 0.252418302806215\n",
      "epoch: 6 loss: 0.2521652300475114\n",
      "epoch: 7 loss: 0.25093897356170364\n",
      "epoch: 8 loss: 0.25256888971621894\n",
      "epoch: 9 loss: 0.25105839630014837\n",
      "epoch: 10 loss: 0.24577594369241984\n",
      "epoch: 11 loss: 0.2525581192093916\n",
      "epoch: 12 loss: 0.24788126048751424\n",
      "epoch: 13 loss: 0.25287338720174407\n",
      "epoch: 14 loss: 0.24963747846366946\n",
      "epoch: 15 loss: 0.2478598528378322\n",
      "epoch: 16 loss: 0.2504462311523847\n",
      "epoch: 17 loss: 0.2505656310228275\n",
      "epoch: 18 loss: 0.24990466944953896\n",
      "epoch: 19 loss: 0.25053833351682653\n",
      "epoch: 20 loss: 0.2501061495909018\n"
     ]
    }
   ],
   "source": [
    "nb_epoch=20\n",
    "for i in range(1,nb_epoch+1):\n",
    "    train_loss=0\n",
    "    s=0.\n",
    "    for id_user in range(0,n_users-batch_size,batch_size):\n",
    "        vk=training_set[id_user:id_user+batch_size]\n",
    "        v0=training_set[id_user:id_user+batch_size]\n",
    "        ph0,_=rbm.sample_h(v0)\n",
    "        for k in range(10):\n",
    "            _,hk=rbm.sample_h(vk)\n",
    "            _,vk=rbm.sample_v(hk)\n",
    "            vk[v0<0]=v0[v0<0]\n",
    "        phk,_=rbm.sample_h(vk)\n",
    "        rbm.train(v0,vk,ph0,phk)\n",
    "        train_loss += torch.mean(torch.abs(v0[v0>=0]-vk[v0>=0]))\n",
    "        s+=1.\n",
    "    print('epoch: '+str(i)+' loss: '+str(train_loss/s))"
   ]
  },
  {
   "cell_type": "code",
   "execution_count": 15,
   "metadata": {},
   "outputs": [
    {
     "name": "stdout",
     "output_type": "stream",
     "text": [
      "loss: 0.23663561979518508\n"
     ]
    }
   ],
   "source": [
    "test_loss=0\n",
    "s=0.\n",
    "for id_user in range(n_users):\n",
    "        v=training_set[id_user:id_user+1]\n",
    "        vt=test_set[id_user:id_user+1]\n",
    "        ph0,_=rbm.sample_h(v0)\n",
    "        if len(vt[vt>=0]) > 0:\n",
    "            _,h = rbm.sample_h(v)\n",
    "            _,v = rbm.sample_v(h)\n",
    "            test_loss += torch.mean(torch.abs(vt[vt>=0]-v[vt>=0]))\n",
    "            s+=1.\n",
    "print('loss: '+str(test_loss/s))"
   ]
  }
 ],
 "metadata": {
  "kernelspec": {
   "display_name": "Python 3",
   "language": "python",
   "name": "python3"
  },
  "language_info": {
   "codemirror_mode": {
    "name": "ipython",
    "version": 3
   },
   "file_extension": ".py",
   "mimetype": "text/x-python",
   "name": "python",
   "nbconvert_exporter": "python",
   "pygments_lexer": "ipython3",
   "version": "3.5.2"
  }
 },
 "nbformat": 4,
 "nbformat_minor": 2
}
